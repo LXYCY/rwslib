{
 "cells": [
  {
   "cell_type": "code",
   "execution_count": 28,
   "metadata": {},
   "outputs": [],
   "source": [
    "# Work with Clinical Data"
   ]
  },
  {
   "cell_type": "code",
   "execution_count": 29,
   "metadata": {},
   "outputs": [],
   "source": [
    "from rwslib import RWSConnection\n",
    "from rwslib.rws_requests import StudySubjectsRequest\n",
    "from Function import PrintNameAndType\n",
    "from Function import PrintNameAndValue"
   ]
  },
  {
   "cell_type": "code",
   "execution_count": 30,
   "metadata": {},
   "outputs": [],
   "source": [
    "rws = RWSConnection(\"klserv\", \"xiaoyu.li\", \"Lxy1234rfv\")"
   ]
  },
  {
   "cell_type": "code",
   "execution_count": 59,
   "metadata": {},
   "outputs": [],
   "source": [
    "studySubjects = rws.send_request(StudySubjectsRequest(\"KL_GENOR GB222-002\", \"DEV\", \n",
    "                                                      status = True, links = True, include = \"inactiveAndDeleted\",\n",
    "                                                     subject_key_type = \"SubjectUUID\"))"
   ]
  },
  {
   "cell_type": "code",
   "execution_count": 60,
   "metadata": {},
   "outputs": [
    {
     "data": {
      "text/plain": [
       "rwslib.rwsobjects.RWSSubjects"
      ]
     },
     "execution_count": 60,
     "metadata": {},
     "output_type": "execute_result"
    }
   ],
   "source": [
    "type(studySubjects)"
   ]
  },
  {
   "cell_type": "code",
   "execution_count": 61,
   "metadata": {},
   "outputs": [],
   "source": [
    "studySubject_properties = {\"studyoid\": [], \"metadataversionoid\": [], \"subjectkey\": [],\n",
    "                           \"subjectkeytype\": [], \"locationoid\": [], \"active\": [], \n",
    "                           \"deleted\": [], \"links\": [], \"status_properties\": []}\n",
    "studySubject_properties\n",
    "for studySubject in studySubjects:\n",
    "    studyoid = studySubject.studyoid # Study OID.\n",
    "    metadataversionoid = studySubject.metadataversionoid # Draft OID.\n",
    "    subjectkey = studySubject.subjectkey # subject name or subject uuid.\n",
    "    subjectkeytype = studySubject.subjectkeytype # \"SubjectUUID\" or \"SubjectName\"\n",
    "    locationoid = studySubject.locationoid # Site OID.\n",
    "    active = studySubject.active # Subject status: active or inactive.\n",
    "    deleted = studySubject.deleted # \n",
    "    links = studySubject.links\n",
    "    status_properties = studySubject.STATUS_PROPERTIES\n",
    "    studySubject_properties[\"studyoid\"].append(studyoid)\n",
    "    studySubject_properties[\"metadataversionoid\"].append(metadataversionoid)\n",
    "    studySubject_properties[\"subjectkey\"].append(subjectkey)\n",
    "    studySubject_properties[\"subjectkeytype\"].append(subjectkeytype)\n",
    "    studySubject_properties[\"locationoid\"].append(locationoid)\n",
    "    studySubject_properties[\"active\"].append(active)\n",
    "    studySubject_properties[\"deleted\"].append(deleted)\n",
    "    studySubject_properties[\"links\"].append(links)\n",
    "    studySubject_properties[\"status_properties\"].append(status_properties)"
   ]
  },
  {
   "cell_type": "code",
   "execution_count": 62,
   "metadata": {},
   "outputs": [
    {
     "name": "stdout",
     "output_type": "stream",
     "text": [
      "studyoid value:['KL_GENOR GB222-002(DEV)', 'KL_GENOR GB222-002(DEV)', 'KL_GENOR GB222-002(DEV)', 'KL_GENOR GB222-002(DEV)', 'KL_GENOR GB222-002(DEV)', 'KL_GENOR GB222-002(DEV)', 'KL_GENOR GB222-002(DEV)', 'KL_GENOR GB222-002(DEV)', 'KL_GENOR GB222-002(DEV)', 'KL_GENOR GB222-002(DEV)', 'KL_GENOR GB222-002(DEV)', 'KL_GENOR GB222-002(DEV)', 'KL_GENOR GB222-002(DEV)', 'KL_GENOR GB222-002(DEV)', 'KL_GENOR GB222-002(DEV)', 'KL_GENOR GB222-002(DEV)', 'KL_GENOR GB222-002(DEV)', 'KL_GENOR GB222-002(DEV)', 'KL_GENOR GB222-002(DEV)', 'KL_GENOR GB222-002(DEV)', 'KL_GENOR GB222-002(DEV)', 'KL_GENOR GB222-002(DEV)', 'KL_GENOR GB222-002(DEV)', 'KL_GENOR GB222-002(DEV)', 'KL_GENOR GB222-002(DEV)', 'KL_GENOR GB222-002(DEV)', 'KL_GENOR GB222-002(DEV)', 'KL_GENOR GB222-002(DEV)', 'KL_GENOR GB222-002(DEV)', 'KL_GENOR GB222-002(DEV)', 'KL_GENOR GB222-002(DEV)', 'KL_GENOR GB222-002(DEV)', 'KL_GENOR GB222-002(DEV)', 'KL_GENOR GB222-002(DEV)']\n",
      "metadataversionoid value:['634', '634', '634', '634', '634', '634', '634', '634', '634', '634', '634', '634', '634', '634', '634', '634', '634', '634', '660', '660', '574', '634', '660', '574', '574', '574', '574', '574', '574', '574', '574', '574', '574', '574']\n",
      "subjectkey value:['8c4c7f91-d780-4766-8e20-01a017a906ce', '4dd2c022-e843-4bba-9939-43ade330ebc1', '359d4595-9aa7-46c2-93ce-47001d8473f7', 'e557c348-a4c7-414c-b558-e1ab266ad05e', '73c213e9-2ce0-4a9e-8297-870d5cdf884a', 'f9e39ed3-43ac-4c6c-badc-61dbb60a4a52', '7a3e89d3-259e-4aa4-84b2-9fb6bdef0de1', '2a11248b-2abb-48a5-bb74-5e6e8526059e', '424621d5-9017-4cc6-a06a-3d64663ea430', '16bee932-637a-46ef-abf5-b5bd348284a3', '581041c3-c814-4244-9aea-0c910968ab46', '02efecb1-7f84-4b31-a4d1-b3a05951d755', 'db54708e-d824-4e42-98a1-74b55530adbd', '1c44479c-0afe-4260-bfea-970f2e553a6a', '5dc387e2-092c-4c51-9486-a1e5bccd8d9e', 'a026918c-ff16-4405-befd-a96ab0034088', '0e9a864d-0b33-4c8d-a718-0e4f0605eb34', '96f3b308-d891-48c8-9bf8-19561f2875e8', 'a46ae705-b6d6-4ed0-a36f-caf0cbe8d7bf', '00a6c9a2-a154-4f35-9800-9486aa867555', 'd977abfd-ac49-45ef-81a3-9acf760f236b', '578b0ac9-0d53-48d5-9787-f0f17fd74cd0', '38301489-b467-40b7-aee7-2491f0f143b7', '39f00030-9305-4958-b322-01f20357dc31', '182d9acc-16b6-4a47-97c6-3967bd80cdb5', '0d41efd1-4af0-4073-a852-92869c9757de', '004c610d-3340-48d2-a723-8bc8ababe47b', '2a26ed08-f92c-4dd3-a596-11f2d0a81bb9', '6e17c3ac-4bab-4053-bec2-35152be33a64', '4d6443e8-f32c-4913-99e2-13f8fbd1c5f4', 'd3d29a69-c6d7-447e-8e8f-f0ec84252b25', '7d461b12-79cf-4cd5-8525-cec2a764faf8', 'ed7b8004-aa9c-45f4-a1fe-2ee17bc154bb', 'e5fd0f5b-0aca-4498-aa51-96c15cf5c4ad']\n",
      "subjectkeytype value:['subjectuuid', 'subjectuuid', 'subjectuuid', 'subjectuuid', 'subjectuuid', 'subjectuuid', 'subjectuuid', 'subjectuuid', 'subjectuuid', 'subjectuuid', 'subjectuuid', 'subjectuuid', 'subjectuuid', 'subjectuuid', 'subjectuuid', 'subjectuuid', 'subjectuuid', 'subjectuuid', 'subjectuuid', 'subjectuuid', 'subjectuuid', 'subjectuuid', 'subjectuuid', 'subjectuuid', 'subjectuuid', 'subjectuuid', 'subjectuuid', 'subjectuuid', 'subjectuuid', 'subjectuuid', 'subjectuuid', 'subjectuuid', 'subjectuuid', 'subjectuuid']\n",
      "locationoid value:['DEV002', 'DEV002', 'DEV002', 'DEV002', 'DEV002', 'DEV002', 'DEV002', 'DEV002', 'DEV002', 'DEV002', 'DEV002', 'DEV002', 'DEV002', 'DEV002', 'DEV002', 'DEV002', 'DEV002', 'DEV002', 'DEV03', 'DEV03', 'GB001', 'DEV002', 'DEV03', 'GB001', 'GB001', 'GB001', 'GB001', 'GB001', 'GB001', 'GB001', 'GB001', 'GB001', 'GB001', 'GB001']\n",
      "active value:[True, True, True, True, True, True, True, True, True, True, True, True, True, True, True, True, True, True, True, True, True, True, True, True, True, True, True, True, True, True, True, True, True, True]\n",
      "deleted value:[False, False, False, False, False, False, False, False, False, False, False, False, False, False, False, False, False, False, False, False, False, False, False, False, False, False, False, False, False, False, False, False, False, False]\n",
      "links value:[['https://klserv.mdsol.com/MedidataRAVE/HandleLink.aspx?page=SubjectPage.aspx?ID=2873'], ['https://klserv.mdsol.com/MedidataRAVE/HandleLink.aspx?page=SubjectPage.aspx?ID=2958'], ['https://klserv.mdsol.com/MedidataRAVE/HandleLink.aspx?page=SubjectPage.aspx?ID=2874'], ['https://klserv.mdsol.com/MedidataRAVE/HandleLink.aspx?page=SubjectPage.aspx?ID=2875'], ['https://klserv.mdsol.com/MedidataRAVE/HandleLink.aspx?page=SubjectPage.aspx?ID=2876'], ['https://klserv.mdsol.com/MedidataRAVE/HandleLink.aspx?page=SubjectPage.aspx?ID=2877'], ['https://klserv.mdsol.com/MedidataRAVE/HandleLink.aspx?page=SubjectPage.aspx?ID=2878'], ['https://klserv.mdsol.com/MedidataRAVE/HandleLink.aspx?page=SubjectPage.aspx?ID=2879'], ['https://klserv.mdsol.com/MedidataRAVE/HandleLink.aspx?page=SubjectPage.aspx?ID=2880'], ['https://klserv.mdsol.com/MedidataRAVE/HandleLink.aspx?page=SubjectPage.aspx?ID=2888'], ['https://klserv.mdsol.com/MedidataRAVE/HandleLink.aspx?page=SubjectPage.aspx?ID=2928'], ['https://klserv.mdsol.com/MedidataRAVE/HandleLink.aspx?page=SubjectPage.aspx?ID=2890'], ['https://klserv.mdsol.com/MedidataRAVE/HandleLink.aspx?page=SubjectPage.aspx?ID=2935'], ['https://klserv.mdsol.com/MedidataRAVE/HandleLink.aspx?page=SubjectPage.aspx?ID=2917'], ['https://klserv.mdsol.com/MedidataRAVE/HandleLink.aspx?page=SubjectPage.aspx?ID=2969'], ['https://klserv.mdsol.com/MedidataRAVE/HandleLink.aspx?page=SubjectPage.aspx?ID=2970'], ['https://klserv.mdsol.com/MedidataRAVE/HandleLink.aspx?page=SubjectPage.aspx?ID=2971'], ['https://klserv.mdsol.com/MedidataRAVE/HandleLink.aspx?page=SubjectPage.aspx?ID=2972'], ['https://klserv.mdsol.com/MedidataRAVE/HandleLink.aspx?page=SubjectPage.aspx?ID=2938'], ['https://klserv.mdsol.com/MedidataRAVE/HandleLink.aspx?page=SubjectPage.aspx?ID=2945'], ['https://klserv.mdsol.com/MedidataRAVE/HandleLink.aspx?page=SubjectPage.aspx?ID=2946'], ['https://klserv.mdsol.com/MedidataRAVE/HandleLink.aspx?page=SubjectPage.aspx?ID=2957'], ['https://klserv.mdsol.com/MedidataRAVE/HandleLink.aspx?page=SubjectPage.aspx?ID=2959'], ['https://klserv.mdsol.com/MedidataRAVE/HandleLink.aspx?page=SubjectPage.aspx?ID=2924'], ['https://klserv.mdsol.com/MedidataRAVE/HandleLink.aspx?page=SubjectPage.aspx?ID=2608'], ['https://klserv.mdsol.com/MedidataRAVE/HandleLink.aspx?page=SubjectPage.aspx?ID=2609'], ['https://klserv.mdsol.com/MedidataRAVE/HandleLink.aspx?page=SubjectPage.aspx?ID=2610'], ['https://klserv.mdsol.com/MedidataRAVE/HandleLink.aspx?page=SubjectPage.aspx?ID=2611'], ['https://klserv.mdsol.com/MedidataRAVE/HandleLink.aspx?page=SubjectPage.aspx?ID=2612'], ['https://klserv.mdsol.com/MedidataRAVE/HandleLink.aspx?page=SubjectPage.aspx?ID=2613'], ['https://klserv.mdsol.com/MedidataRAVE/HandleLink.aspx?page=SubjectPage.aspx?ID=2614'], ['https://klserv.mdsol.com/MedidataRAVE/HandleLink.aspx?page=SubjectPage.aspx?ID=2617'], ['https://klserv.mdsol.com/MedidataRAVE/HandleLink.aspx?page=SubjectPage.aspx?ID=2618'], ['https://klserv.mdsol.com/MedidataRAVE/HandleLink.aspx?page=SubjectPage.aspx?ID=2619']]\n",
      "status_properties value:[['Overdue', 'Touched', 'Empty', 'Incomplete', 'NonConformant', 'RequiresSecondPass', 'RequiresReconciliation', 'RequiresVerification', 'Verified', 'Frozen', 'Locked', 'RequiresReview', 'PendingReview', 'Reviewed', 'RequiresAnswerQuery', 'RequiresPendingCloseQuery', 'RequiresCloseQuery', 'StickyPlaced', 'Signed', 'SignatureCurrent', 'RequiresTranslation', 'RequiresCoding', 'RequiresPendingAnswerQuery', 'RequiresSignature', 'ReadyForFreeze', 'ReadyForLock', 'SubjectKeyType', 'SubjectName'], ['Overdue', 'Touched', 'Empty', 'Incomplete', 'NonConformant', 'RequiresSecondPass', 'RequiresReconciliation', 'RequiresVerification', 'Verified', 'Frozen', 'Locked', 'RequiresReview', 'PendingReview', 'Reviewed', 'RequiresAnswerQuery', 'RequiresPendingCloseQuery', 'RequiresCloseQuery', 'StickyPlaced', 'Signed', 'SignatureCurrent', 'RequiresTranslation', 'RequiresCoding', 'RequiresPendingAnswerQuery', 'RequiresSignature', 'ReadyForFreeze', 'ReadyForLock', 'SubjectKeyType', 'SubjectName'], ['Overdue', 'Touched', 'Empty', 'Incomplete', 'NonConformant', 'RequiresSecondPass', 'RequiresReconciliation', 'RequiresVerification', 'Verified', 'Frozen', 'Locked', 'RequiresReview', 'PendingReview', 'Reviewed', 'RequiresAnswerQuery', 'RequiresPendingCloseQuery', 'RequiresCloseQuery', 'StickyPlaced', 'Signed', 'SignatureCurrent', 'RequiresTranslation', 'RequiresCoding', 'RequiresPendingAnswerQuery', 'RequiresSignature', 'ReadyForFreeze', 'ReadyForLock', 'SubjectKeyType', 'SubjectName'], ['Overdue', 'Touched', 'Empty', 'Incomplete', 'NonConformant', 'RequiresSecondPass', 'RequiresReconciliation', 'RequiresVerification', 'Verified', 'Frozen', 'Locked', 'RequiresReview', 'PendingReview', 'Reviewed', 'RequiresAnswerQuery', 'RequiresPendingCloseQuery', 'RequiresCloseQuery', 'StickyPlaced', 'Signed', 'SignatureCurrent', 'RequiresTranslation', 'RequiresCoding', 'RequiresPendingAnswerQuery', 'RequiresSignature', 'ReadyForFreeze', 'ReadyForLock', 'SubjectKeyType', 'SubjectName'], ['Overdue', 'Touched', 'Empty', 'Incomplete', 'NonConformant', 'RequiresSecondPass', 'RequiresReconciliation', 'RequiresVerification', 'Verified', 'Frozen', 'Locked', 'RequiresReview', 'PendingReview', 'Reviewed', 'RequiresAnswerQuery', 'RequiresPendingCloseQuery', 'RequiresCloseQuery', 'StickyPlaced', 'Signed', 'SignatureCurrent', 'RequiresTranslation', 'RequiresCoding', 'RequiresPendingAnswerQuery', 'RequiresSignature', 'ReadyForFreeze', 'ReadyForLock', 'SubjectKeyType', 'SubjectName'], ['Overdue', 'Touched', 'Empty', 'Incomplete', 'NonConformant', 'RequiresSecondPass', 'RequiresReconciliation', 'RequiresVerification', 'Verified', 'Frozen', 'Locked', 'RequiresReview', 'PendingReview', 'Reviewed', 'RequiresAnswerQuery', 'RequiresPendingCloseQuery', 'RequiresCloseQuery', 'StickyPlaced', 'Signed', 'SignatureCurrent', 'RequiresTranslation', 'RequiresCoding', 'RequiresPendingAnswerQuery', 'RequiresSignature', 'ReadyForFreeze', 'ReadyForLock', 'SubjectKeyType', 'SubjectName'], ['Overdue', 'Touched', 'Empty', 'Incomplete', 'NonConformant', 'RequiresSecondPass', 'RequiresReconciliation', 'RequiresVerification', 'Verified', 'Frozen', 'Locked', 'RequiresReview', 'PendingReview', 'Reviewed', 'RequiresAnswerQuery', 'RequiresPendingCloseQuery', 'RequiresCloseQuery', 'StickyPlaced', 'Signed', 'SignatureCurrent', 'RequiresTranslation', 'RequiresCoding', 'RequiresPendingAnswerQuery', 'RequiresSignature', 'ReadyForFreeze', 'ReadyForLock', 'SubjectKeyType', 'SubjectName'], ['Overdue', 'Touched', 'Empty', 'Incomplete', 'NonConformant', 'RequiresSecondPass', 'RequiresReconciliation', 'RequiresVerification', 'Verified', 'Frozen', 'Locked', 'RequiresReview', 'PendingReview', 'Reviewed', 'RequiresAnswerQuery', 'RequiresPendingCloseQuery', 'RequiresCloseQuery', 'StickyPlaced', 'Signed', 'SignatureCurrent', 'RequiresTranslation', 'RequiresCoding', 'RequiresPendingAnswerQuery', 'RequiresSignature', 'ReadyForFreeze', 'ReadyForLock', 'SubjectKeyType', 'SubjectName'], ['Overdue', 'Touched', 'Empty', 'Incomplete', 'NonConformant', 'RequiresSecondPass', 'RequiresReconciliation', 'RequiresVerification', 'Verified', 'Frozen', 'Locked', 'RequiresReview', 'PendingReview', 'Reviewed', 'RequiresAnswerQuery', 'RequiresPendingCloseQuery', 'RequiresCloseQuery', 'StickyPlaced', 'Signed', 'SignatureCurrent', 'RequiresTranslation', 'RequiresCoding', 'RequiresPendingAnswerQuery', 'RequiresSignature', 'ReadyForFreeze', 'ReadyForLock', 'SubjectKeyType', 'SubjectName'], ['Overdue', 'Touched', 'Empty', 'Incomplete', 'NonConformant', 'RequiresSecondPass', 'RequiresReconciliation', 'RequiresVerification', 'Verified', 'Frozen', 'Locked', 'RequiresReview', 'PendingReview', 'Reviewed', 'RequiresAnswerQuery', 'RequiresPendingCloseQuery', 'RequiresCloseQuery', 'StickyPlaced', 'Signed', 'SignatureCurrent', 'RequiresTranslation', 'RequiresCoding', 'RequiresPendingAnswerQuery', 'RequiresSignature', 'ReadyForFreeze', 'ReadyForLock', 'SubjectKeyType', 'SubjectName'], ['Overdue', 'Touched', 'Empty', 'Incomplete', 'NonConformant', 'RequiresSecondPass', 'RequiresReconciliation', 'RequiresVerification', 'Verified', 'Frozen', 'Locked', 'RequiresReview', 'PendingReview', 'Reviewed', 'RequiresAnswerQuery', 'RequiresPendingCloseQuery', 'RequiresCloseQuery', 'StickyPlaced', 'Signed', 'SignatureCurrent', 'RequiresTranslation', 'RequiresCoding', 'RequiresPendingAnswerQuery', 'RequiresSignature', 'ReadyForFreeze', 'ReadyForLock', 'SubjectKeyType', 'SubjectName'], ['Overdue', 'Touched', 'Empty', 'Incomplete', 'NonConformant', 'RequiresSecondPass', 'RequiresReconciliation', 'RequiresVerification', 'Verified', 'Frozen', 'Locked', 'RequiresReview', 'PendingReview', 'Reviewed', 'RequiresAnswerQuery', 'RequiresPendingCloseQuery', 'RequiresCloseQuery', 'StickyPlaced', 'Signed', 'SignatureCurrent', 'RequiresTranslation', 'RequiresCoding', 'RequiresPendingAnswerQuery', 'RequiresSignature', 'ReadyForFreeze', 'ReadyForLock', 'SubjectKeyType', 'SubjectName'], ['Overdue', 'Touched', 'Empty', 'Incomplete', 'NonConformant', 'RequiresSecondPass', 'RequiresReconciliation', 'RequiresVerification', 'Verified', 'Frozen', 'Locked', 'RequiresReview', 'PendingReview', 'Reviewed', 'RequiresAnswerQuery', 'RequiresPendingCloseQuery', 'RequiresCloseQuery', 'StickyPlaced', 'Signed', 'SignatureCurrent', 'RequiresTranslation', 'RequiresCoding', 'RequiresPendingAnswerQuery', 'RequiresSignature', 'ReadyForFreeze', 'ReadyForLock', 'SubjectKeyType', 'SubjectName'], ['Overdue', 'Touched', 'Empty', 'Incomplete', 'NonConformant', 'RequiresSecondPass', 'RequiresReconciliation', 'RequiresVerification', 'Verified', 'Frozen', 'Locked', 'RequiresReview', 'PendingReview', 'Reviewed', 'RequiresAnswerQuery', 'RequiresPendingCloseQuery', 'RequiresCloseQuery', 'StickyPlaced', 'Signed', 'SignatureCurrent', 'RequiresTranslation', 'RequiresCoding', 'RequiresPendingAnswerQuery', 'RequiresSignature', 'ReadyForFreeze', 'ReadyForLock', 'SubjectKeyType', 'SubjectName'], ['Overdue', 'Touched', 'Empty', 'Incomplete', 'NonConformant', 'RequiresSecondPass', 'RequiresReconciliation', 'RequiresVerification', 'Verified', 'Frozen', 'Locked', 'RequiresReview', 'PendingReview', 'Reviewed', 'RequiresAnswerQuery', 'RequiresPendingCloseQuery', 'RequiresCloseQuery', 'StickyPlaced', 'Signed', 'SignatureCurrent', 'RequiresTranslation', 'RequiresCoding', 'RequiresPendingAnswerQuery', 'RequiresSignature', 'ReadyForFreeze', 'ReadyForLock', 'SubjectKeyType', 'SubjectName'], ['Overdue', 'Touched', 'Empty', 'Incomplete', 'NonConformant', 'RequiresSecondPass', 'RequiresReconciliation', 'RequiresVerification', 'Verified', 'Frozen', 'Locked', 'RequiresReview', 'PendingReview', 'Reviewed', 'RequiresAnswerQuery', 'RequiresPendingCloseQuery', 'RequiresCloseQuery', 'StickyPlaced', 'Signed', 'SignatureCurrent', 'RequiresTranslation', 'RequiresCoding', 'RequiresPendingAnswerQuery', 'RequiresSignature', 'ReadyForFreeze', 'ReadyForLock', 'SubjectKeyType', 'SubjectName'], ['Overdue', 'Touched', 'Empty', 'Incomplete', 'NonConformant', 'RequiresSecondPass', 'RequiresReconciliation', 'RequiresVerification', 'Verified', 'Frozen', 'Locked', 'RequiresReview', 'PendingReview', 'Reviewed', 'RequiresAnswerQuery', 'RequiresPendingCloseQuery', 'RequiresCloseQuery', 'StickyPlaced', 'Signed', 'SignatureCurrent', 'RequiresTranslation', 'RequiresCoding', 'RequiresPendingAnswerQuery', 'RequiresSignature', 'ReadyForFreeze', 'ReadyForLock', 'SubjectKeyType', 'SubjectName'], ['Overdue', 'Touched', 'Empty', 'Incomplete', 'NonConformant', 'RequiresSecondPass', 'RequiresReconciliation', 'RequiresVerification', 'Verified', 'Frozen', 'Locked', 'RequiresReview', 'PendingReview', 'Reviewed', 'RequiresAnswerQuery', 'RequiresPendingCloseQuery', 'RequiresCloseQuery', 'StickyPlaced', 'Signed', 'SignatureCurrent', 'RequiresTranslation', 'RequiresCoding', 'RequiresPendingAnswerQuery', 'RequiresSignature', 'ReadyForFreeze', 'ReadyForLock', 'SubjectKeyType', 'SubjectName'], ['Overdue', 'Touched', 'Empty', 'Incomplete', 'NonConformant', 'RequiresSecondPass', 'RequiresReconciliation', 'RequiresVerification', 'Verified', 'Frozen', 'Locked', 'RequiresReview', 'PendingReview', 'Reviewed', 'RequiresAnswerQuery', 'RequiresPendingCloseQuery', 'RequiresCloseQuery', 'StickyPlaced', 'Signed', 'SignatureCurrent', 'RequiresTranslation', 'RequiresCoding', 'RequiresPendingAnswerQuery', 'RequiresSignature', 'ReadyForFreeze', 'ReadyForLock', 'SubjectKeyType', 'SubjectName'], ['Overdue', 'Touched', 'Empty', 'Incomplete', 'NonConformant', 'RequiresSecondPass', 'RequiresReconciliation', 'RequiresVerification', 'Verified', 'Frozen', 'Locked', 'RequiresReview', 'PendingReview', 'Reviewed', 'RequiresAnswerQuery', 'RequiresPendingCloseQuery', 'RequiresCloseQuery', 'StickyPlaced', 'Signed', 'SignatureCurrent', 'RequiresTranslation', 'RequiresCoding', 'RequiresPendingAnswerQuery', 'RequiresSignature', 'ReadyForFreeze', 'ReadyForLock', 'SubjectKeyType', 'SubjectName'], ['Overdue', 'Touched', 'Empty', 'Incomplete', 'NonConformant', 'RequiresSecondPass', 'RequiresReconciliation', 'RequiresVerification', 'Verified', 'Frozen', 'Locked', 'RequiresReview', 'PendingReview', 'Reviewed', 'RequiresAnswerQuery', 'RequiresPendingCloseQuery', 'RequiresCloseQuery', 'StickyPlaced', 'Signed', 'SignatureCurrent', 'RequiresTranslation', 'RequiresCoding', 'RequiresPendingAnswerQuery', 'RequiresSignature', 'ReadyForFreeze', 'ReadyForLock', 'SubjectKeyType', 'SubjectName'], ['Overdue', 'Touched', 'Empty', 'Incomplete', 'NonConformant', 'RequiresSecondPass', 'RequiresReconciliation', 'RequiresVerification', 'Verified', 'Frozen', 'Locked', 'RequiresReview', 'PendingReview', 'Reviewed', 'RequiresAnswerQuery', 'RequiresPendingCloseQuery', 'RequiresCloseQuery', 'StickyPlaced', 'Signed', 'SignatureCurrent', 'RequiresTranslation', 'RequiresCoding', 'RequiresPendingAnswerQuery', 'RequiresSignature', 'ReadyForFreeze', 'ReadyForLock', 'SubjectKeyType', 'SubjectName'], ['Overdue', 'Touched', 'Empty', 'Incomplete', 'NonConformant', 'RequiresSecondPass', 'RequiresReconciliation', 'RequiresVerification', 'Verified', 'Frozen', 'Locked', 'RequiresReview', 'PendingReview', 'Reviewed', 'RequiresAnswerQuery', 'RequiresPendingCloseQuery', 'RequiresCloseQuery', 'StickyPlaced', 'Signed', 'SignatureCurrent', 'RequiresTranslation', 'RequiresCoding', 'RequiresPendingAnswerQuery', 'RequiresSignature', 'ReadyForFreeze', 'ReadyForLock', 'SubjectKeyType', 'SubjectName'], ['Overdue', 'Touched', 'Empty', 'Incomplete', 'NonConformant', 'RequiresSecondPass', 'RequiresReconciliation', 'RequiresVerification', 'Verified', 'Frozen', 'Locked', 'RequiresReview', 'PendingReview', 'Reviewed', 'RequiresAnswerQuery', 'RequiresPendingCloseQuery', 'RequiresCloseQuery', 'StickyPlaced', 'Signed', 'SignatureCurrent', 'RequiresTranslation', 'RequiresCoding', 'RequiresPendingAnswerQuery', 'RequiresSignature', 'ReadyForFreeze', 'ReadyForLock', 'SubjectKeyType', 'SubjectName'], ['Overdue', 'Touched', 'Empty', 'Incomplete', 'NonConformant', 'RequiresSecondPass', 'RequiresReconciliation', 'RequiresVerification', 'Verified', 'Frozen', 'Locked', 'RequiresReview', 'PendingReview', 'Reviewed', 'RequiresAnswerQuery', 'RequiresPendingCloseQuery', 'RequiresCloseQuery', 'StickyPlaced', 'Signed', 'SignatureCurrent', 'RequiresTranslation', 'RequiresCoding', 'RequiresPendingAnswerQuery', 'RequiresSignature', 'ReadyForFreeze', 'ReadyForLock', 'SubjectKeyType', 'SubjectName'], ['Overdue', 'Touched', 'Empty', 'Incomplete', 'NonConformant', 'RequiresSecondPass', 'RequiresReconciliation', 'RequiresVerification', 'Verified', 'Frozen', 'Locked', 'RequiresReview', 'PendingReview', 'Reviewed', 'RequiresAnswerQuery', 'RequiresPendingCloseQuery', 'RequiresCloseQuery', 'StickyPlaced', 'Signed', 'SignatureCurrent', 'RequiresTranslation', 'RequiresCoding', 'RequiresPendingAnswerQuery', 'RequiresSignature', 'ReadyForFreeze', 'ReadyForLock', 'SubjectKeyType', 'SubjectName'], ['Overdue', 'Touched', 'Empty', 'Incomplete', 'NonConformant', 'RequiresSecondPass', 'RequiresReconciliation', 'RequiresVerification', 'Verified', 'Frozen', 'Locked', 'RequiresReview', 'PendingReview', 'Reviewed', 'RequiresAnswerQuery', 'RequiresPendingCloseQuery', 'RequiresCloseQuery', 'StickyPlaced', 'Signed', 'SignatureCurrent', 'RequiresTranslation', 'RequiresCoding', 'RequiresPendingAnswerQuery', 'RequiresSignature', 'ReadyForFreeze', 'ReadyForLock', 'SubjectKeyType', 'SubjectName'], ['Overdue', 'Touched', 'Empty', 'Incomplete', 'NonConformant', 'RequiresSecondPass', 'RequiresReconciliation', 'RequiresVerification', 'Verified', 'Frozen', 'Locked', 'RequiresReview', 'PendingReview', 'Reviewed', 'RequiresAnswerQuery', 'RequiresPendingCloseQuery', 'RequiresCloseQuery', 'StickyPlaced', 'Signed', 'SignatureCurrent', 'RequiresTranslation', 'RequiresCoding', 'RequiresPendingAnswerQuery', 'RequiresSignature', 'ReadyForFreeze', 'ReadyForLock', 'SubjectKeyType', 'SubjectName'], ['Overdue', 'Touched', 'Empty', 'Incomplete', 'NonConformant', 'RequiresSecondPass', 'RequiresReconciliation', 'RequiresVerification', 'Verified', 'Frozen', 'Locked', 'RequiresReview', 'PendingReview', 'Reviewed', 'RequiresAnswerQuery', 'RequiresPendingCloseQuery', 'RequiresCloseQuery', 'StickyPlaced', 'Signed', 'SignatureCurrent', 'RequiresTranslation', 'RequiresCoding', 'RequiresPendingAnswerQuery', 'RequiresSignature', 'ReadyForFreeze', 'ReadyForLock', 'SubjectKeyType', 'SubjectName'], ['Overdue', 'Touched', 'Empty', 'Incomplete', 'NonConformant', 'RequiresSecondPass', 'RequiresReconciliation', 'RequiresVerification', 'Verified', 'Frozen', 'Locked', 'RequiresReview', 'PendingReview', 'Reviewed', 'RequiresAnswerQuery', 'RequiresPendingCloseQuery', 'RequiresCloseQuery', 'StickyPlaced', 'Signed', 'SignatureCurrent', 'RequiresTranslation', 'RequiresCoding', 'RequiresPendingAnswerQuery', 'RequiresSignature', 'ReadyForFreeze', 'ReadyForLock', 'SubjectKeyType', 'SubjectName'], ['Overdue', 'Touched', 'Empty', 'Incomplete', 'NonConformant', 'RequiresSecondPass', 'RequiresReconciliation', 'RequiresVerification', 'Verified', 'Frozen', 'Locked', 'RequiresReview', 'PendingReview', 'Reviewed', 'RequiresAnswerQuery', 'RequiresPendingCloseQuery', 'RequiresCloseQuery', 'StickyPlaced', 'Signed', 'SignatureCurrent', 'RequiresTranslation', 'RequiresCoding', 'RequiresPendingAnswerQuery', 'RequiresSignature', 'ReadyForFreeze', 'ReadyForLock', 'SubjectKeyType', 'SubjectName'], ['Overdue', 'Touched', 'Empty', 'Incomplete', 'NonConformant', 'RequiresSecondPass', 'RequiresReconciliation', 'RequiresVerification', 'Verified', 'Frozen', 'Locked', 'RequiresReview', 'PendingReview', 'Reviewed', 'RequiresAnswerQuery', 'RequiresPendingCloseQuery', 'RequiresCloseQuery', 'StickyPlaced', 'Signed', 'SignatureCurrent', 'RequiresTranslation', 'RequiresCoding', 'RequiresPendingAnswerQuery', 'RequiresSignature', 'ReadyForFreeze', 'ReadyForLock', 'SubjectKeyType', 'SubjectName'], ['Overdue', 'Touched', 'Empty', 'Incomplete', 'NonConformant', 'RequiresSecondPass', 'RequiresReconciliation', 'RequiresVerification', 'Verified', 'Frozen', 'Locked', 'RequiresReview', 'PendingReview', 'Reviewed', 'RequiresAnswerQuery', 'RequiresPendingCloseQuery', 'RequiresCloseQuery', 'StickyPlaced', 'Signed', 'SignatureCurrent', 'RequiresTranslation', 'RequiresCoding', 'RequiresPendingAnswerQuery', 'RequiresSignature', 'ReadyForFreeze', 'ReadyForLock', 'SubjectKeyType', 'SubjectName'], ['Overdue', 'Touched', 'Empty', 'Incomplete', 'NonConformant', 'RequiresSecondPass', 'RequiresReconciliation', 'RequiresVerification', 'Verified', 'Frozen', 'Locked', 'RequiresReview', 'PendingReview', 'Reviewed', 'RequiresAnswerQuery', 'RequiresPendingCloseQuery', 'RequiresCloseQuery', 'StickyPlaced', 'Signed', 'SignatureCurrent', 'RequiresTranslation', 'RequiresCoding', 'RequiresPendingAnswerQuery', 'RequiresSignature', 'ReadyForFreeze', 'ReadyForLock', 'SubjectKeyType', 'SubjectName']]\n"
     ]
    }
   ],
   "source": [
    "PrintNameAndValue(studySubject_properties)"
   ]
  },
  {
   "cell_type": "code",
   "execution_count": 63,
   "metadata": {},
   "outputs": [],
   "source": [
    "studySubjects_SubjectName = rws.send_request(StudySubjectsRequest(\"KL_GENOR GB222-002\", \"DEV\", \n",
    "                                                      status = True, links = True, include = \"inactiveAndDeleted\",\n",
    "                                                     subject_key_type = \"SubjectName\"))"
   ]
  },
  {
   "cell_type": "code",
   "execution_count": 65,
   "metadata": {},
   "outputs": [],
   "source": [
    "studySubject_per = {\"subjectkey\": []}\n",
    "for studySubject in studySubjects_SubjectName:\n",
    "    subjectkey = studySubject.subjectkey\n",
    "    studySubject_per[\"subjectkey\"].append(subjectkey)"
   ]
  },
  {
   "cell_type": "code",
   "execution_count": 66,
   "metadata": {},
   "outputs": [
    {
     "name": "stdout",
     "output_type": "stream",
     "text": [
      "subjectkey value:['001', '001', '002', '003', '004', '005', '006', '007', '008', '009', '01', '010', '011', '11', '111', '12', '122', '2123', 'New Subject', 'New Subject', 'New Subject', 'New Subject', 'New Subject', 'New Subject', 'New Subject', 'New Subject', 'New Subject', 'New Subject', 'New Subject', 'New Subject', 'New Subject', 'New Subject', 'New Subject', 'New Subject']\n"
     ]
    }
   ],
   "source": [
    "PrintNameAndValue(studySubject_per)"
   ]
  },
  {
   "cell_type": "code",
   "execution_count": null,
   "metadata": {},
   "outputs": [],
   "source": []
  }
 ],
 "metadata": {
  "kernelspec": {
   "display_name": "Python 3",
   "language": "python",
   "name": "python3"
  },
  "language_info": {
   "codemirror_mode": {
    "name": "ipython",
    "version": 3
   },
   "file_extension": ".py",
   "mimetype": "text/x-python",
   "name": "python",
   "nbconvert_exporter": "python",
   "pygments_lexer": "ipython3",
   "version": "3.6.4"
  }
 },
 "nbformat": 4,
 "nbformat_minor": 2
}
