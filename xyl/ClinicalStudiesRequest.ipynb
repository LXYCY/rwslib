{
 "cells": [
  {
   "cell_type": "code",
   "execution_count": 1,
   "metadata": {},
   "outputs": [],
   "source": [
    "from rwslib import RWSConnection\n",
    "from rwslib.rws_requests import ClinicalStudiesRequest\n",
    "from Function import PrintNameAndType, PrintNameAndValue"
   ]
  },
  {
   "cell_type": "code",
   "execution_count": 2,
   "metadata": {},
   "outputs": [],
   "source": [
    "rws = RWSConnection(\"klserv\", \"xiaoyu.li\", \"Lxy1234rfv\")"
   ]
  },
  {
   "cell_type": "code",
   "execution_count": 3,
   "metadata": {},
   "outputs": [],
   "source": [
    "clinicalStudies = rws.send_request(ClinicalStudiesRequest())"
   ]
  },
  {
   "cell_type": "code",
   "execution_count": 4,
   "metadata": {},
   "outputs": [
    {
     "data": {
      "text/plain": [
       "'<ODM xmlns:mdsol=\"http://www.mdsol.com/ns/odm/metadata\" xmlns:xlink=\"http://www.w3.org/1999/xlink\" xmlns=\"http://www.cdisc.org/ns/odm/v1.3\" FileType=\"Snapshot\" FileOID=\"1fab57c7-9ca2-4631-bb5a-a1ba2a53d83f\" CreationDateTime=\"2018-05-02T14:29:43.466-00:00\" ODMVersion=\"1.3\">\\n  <Study OID=\"KL_GENOR GB222-002(DEV)\">\\n    <GlobalVariables>\\n      <StudyName>KL_GENOR GB222-002 (DEV)</StudyName>\\n      <StudyDescription/>\\n      <ProtocolName>KL_GENOR GB222-002</ProtocolName>\\n    </GlobalVariables>\\n  </Study>\\n  <Study OID=\"Weiping_Test(OTHER)\">\\n    <GlobalVariables>\\n      <StudyName>Weiping_Test (OTHER)</StudyName>\\n      <StudyDescription/>\\n      <ProtocolName>Weiping_Test</ProtocolName>\\n    </GlobalVariables>\\n  </Study>\\n  <Study OID=\"Weiping_TestBalance(Prod)\">\\n    <GlobalVariables>\\n      <StudyName>Weiping_TestBalance</StudyName>\\n      <StudyDescription/>\\n      <ProtocolName>Weiping_TestBalance</ProtocolName>\\n    </GlobalVariables>\\n  </Study>\\n</ODM>'"
      ]
     },
     "execution_count": 4,
     "metadata": {},
     "output_type": "execute_result"
    }
   ],
   "source": [
    "str(clinicalStudies)"
   ]
  },
  {
   "cell_type": "code",
   "execution_count": 5,
   "metadata": {},
   "outputs": [
    {
     "data": {
      "text/plain": [
       "rwslib.rwsobjects.RWSStudies"
      ]
     },
     "execution_count": 5,
     "metadata": {},
     "output_type": "execute_result"
    }
   ],
   "source": [
    "type(clinicalStudies)"
   ]
  },
  {
   "cell_type": "code",
   "execution_count": 6,
   "metadata": {},
   "outputs": [
    {
     "name": "stdout",
     "output_type": "stream",
     "text": [
      "creationdatetime type:<class 'str'>\n",
      "fileoid type:<class 'str'>\n",
      "filetype type:<class 'str'>\n",
      "granularity type:<class 'NoneType'>\n",
      "index type:<class 'builtin_function_or_method'>\n",
      "ODMVersion type:<class 'str'>\n",
      "root type:<class 'lxml.etree._Element'>\n",
      "------------------------------------------------------------------------------------------------------------------------\n",
      "creationdatetime value:2018-05-02T14:29:43.466-00:00\n",
      "fileoid value:1fab57c7-9ca2-4631-bb5a-a1ba2a53d83f\n",
      "filetype value:Snapshot\n",
      "granularity value:None\n",
      "index value:<built-in method index of RWSStudies object at 0x7f54c42acb38>\n",
      "ODMVersion value:1.3\n",
      "root value:<Element {http://www.cdisc.org/ns/odm/v1.3}ODM at 0x7f54c428df08>\n"
     ]
    }
   ],
   "source": [
    "creationdatetime = clinicalStudies.creationdatetime\n",
    "fileoid = clinicalStudies.fileoid\n",
    "filetype = clinicalStudies.filetype\n",
    "granularity = clinicalStudies.granularity\n",
    "index = clinicalStudies.index\n",
    "ODMVersion = clinicalStudies.ODMVersion\n",
    "root = clinicalStudies.root\n",
    "all_clinicalStudies_property = {'creationdatetime': creationdatetime, 'fileoid': fileoid, 'filetype': filetype, \n",
    "                        'granularity': granularity, 'index': index, 'ODMVersion': ODMVersion, 'root': root}\n",
    "PrintNameAndType(all_clinicalStudies_property)\n",
    "print('------' * 20)\n",
    "PrintNameAndValue(all_clinicalStudies_property)"
   ]
  },
  {
   "cell_type": "code",
   "execution_count": 26,
   "metadata": {},
   "outputs": [],
   "source": [
    "study_property = {'oid':[], 'studyname': [], 'protocolname': [], 'environment': [], 'projecttype': [], 'isProd': []}\n",
    "for study in clinicalStudies[:5]:\n",
    "    oid = study.oid\n",
    "    studyname = study.studyname\n",
    "    protocolname = study.protocolname\n",
    "    environment = study.environment\n",
    "    projecttype = study.projecttype\n",
    "    if study.isProd():\n",
    "        isProd = True\n",
    "    if not study.isProd():\n",
    "        isProd = False\n",
    "    study_property['oid'].append(oid)\n",
    "    study_property['studyname'].append(studyname)\n",
    "    study_property['protocolname'].append(protocolname)\n",
    "    study_property['environment'].append(environment)\n",
    "    study_property['projecttype'].append(projecttype)\n",
    "    study_property['isProd'].append(isProd)"
   ]
  },
  {
   "cell_type": "code",
   "execution_count": 27,
   "metadata": {},
   "outputs": [
    {
     "name": "stdout",
     "output_type": "stream",
     "text": [
      "oid type:<class 'list'>\n",
      "studyname type:<class 'list'>\n",
      "protocolname type:<class 'list'>\n",
      "environment type:<class 'list'>\n",
      "projecttype type:<class 'list'>\n",
      "isProd type:<class 'list'>\n",
      "------------------------------------------------------------------------------------------------------------------------\n",
      "oid value:['KL_GENOR GB222-002(DEV)', 'Weiping_Test(OTHER)', 'Weiping_TestBalance(Prod)']\n",
      "studyname value:['KL_GENOR GB222-002 (DEV)', 'Weiping_Test (OTHER)', 'Weiping_TestBalance']\n",
      "protocolname value:['KL_GENOR GB222-002', 'Weiping_Test', 'Weiping_TestBalance']\n",
      "environment value:['DEV', 'OTHER', '']\n",
      "projecttype value:['Project', 'Project', 'Project']\n",
      "isProd value:[False, False, True]\n"
     ]
    }
   ],
   "source": [
    "PrintNameAndType(study_property)\n",
    "print('------' * 20)\n",
    "PrintNameAndValue(study_property)"
   ]
  },
  {
   "cell_type": "code",
   "execution_count": null,
   "metadata": {},
   "outputs": [],
   "source": []
  }
 ],
 "metadata": {
  "kernelspec": {
   "display_name": "Python 3",
   "language": "python",
   "name": "python3"
  },
  "language_info": {
   "codemirror_mode": {
    "name": "ipython",
    "version": 3
   },
   "file_extension": ".py",
   "mimetype": "text/x-python",
   "name": "python",
   "nbconvert_exporter": "python",
   "pygments_lexer": "ipython3",
   "version": "3.6.4"
  }
 },
 "nbformat": 4,
 "nbformat_minor": 2
}
