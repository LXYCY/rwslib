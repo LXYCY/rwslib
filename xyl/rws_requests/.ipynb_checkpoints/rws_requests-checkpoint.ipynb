{
 "cells": [
  {
   "cell_type": "code",
   "execution_count": null,
   "metadata": {},
   "outputs": [],
   "source": [
    "from rwslib import RWSConnection\n",
    "from rwslib.rws_requests import VersionRequest\n",
    "from rwslib.rws_requests import BuildVersionRequest\n",
    "from rwslib.rws_requests import CodeNameRequest\n",
    "from rwslib.rws_requests import DiagnosticsRequest\n",
    "from rwslib.rws_requests import TwoHundredRequest\n",
    "from rwslib.rws_requests import CacheFlushRequest\n",
    "from rwslib.rws_requests import ConfigurableDatasetRequest"
   ]
  },
  {
   "cell_type": "code",
   "execution_count": 2,
   "metadata": {},
   "outputs": [],
   "source": [
    "rws = RWSConnection(\"klserv\", \"xiaoyu.li\", \"Lxy1234rfv\") # 创建一个连接对象。"
   ]
  },
  {
   "cell_type": "code",
   "execution_count": 3,
   "metadata": {},
   "outputs": [],
   "source": [
    "# RWSConnection: 对象的属性；\n",
    "auth = rws.auth\n",
    "base_url = rws.base_url\n",
    "domain = rws.domain\n",
    "# last_result还有其他属性：last_result.url, last_result.status_code, last_result.headers['content-type'], last_result.text\n",
    "last_result = rws.last_result\n",
    "request_time = rws.request_time\n",
    "send_request = rws.send_request\n",
    "all_list = [auth, base_url, domain, last_result, request_time, send_request]"
   ]
  },
  {
   "cell_type": "code",
   "execution_count": 4,
   "metadata": {},
   "outputs": [],
   "source": [
    "def printList(all_list):\n",
    "    for a_list in all_list:\n",
    "        print(a_list)"
   ]
  },
  {
   "cell_type": "code",
   "execution_count": 5,
   "metadata": {},
   "outputs": [
    {
     "name": "stdout",
     "output_type": "stream",
     "text": [
      "('xiaoyu.li', 'Lxy1234rfv')\n",
      "https://klserv.mdsol.com/RaveWebServices\n",
      "https://klserv.mdsol.com\n",
      "None\n",
      "None\n",
      "<bound method RWSConnection.send_request of <rwslib.RWSConnection object at 0x7f83c45cd668>>\n"
     ]
    }
   ],
   "source": [
    "printList(all_list)"
   ]
  },
  {
   "cell_type": "code",
   "execution_count": 6,
   "metadata": {},
   "outputs": [],
   "source": [
    "# VersionRequest\n",
    "\n",
    "version = rws.send_request(VersionRequest())\n",
    "version_type = type(version)\n"
   ]
  },
  {
   "cell_type": "code",
   "execution_count": 7,
   "metadata": {},
   "outputs": [
    {
     "name": "stdout",
     "output_type": "stream",
     "text": [
      "1.16.0\n",
      "<class 'str'>\n"
     ]
    }
   ],
   "source": [
    "version_list = [version, version_type]\n",
    "printList(version_list)"
   ]
  },
  {
   "cell_type": "code",
   "execution_count": null,
   "metadata": {},
   "outputs": [
    {
     "data": {
      "text/plain": [
       "'https://klserv.mdsol.com/RaveWebServices/version'"
      ]
     },
     "execution_count": 8,
     "metadata": {},
     "output_type": "execute_result"
    }
   ],
   "source": [
    "rws.last_result.url"
   ]
  },
  {
   "cell_type": "code",
   "execution_count": null,
   "metadata": {},
   "outputs": [],
   "source": [
    "# BuildVersionRequest\n",
    "\n",
    "buildVersion = rws.send_request(BuildVersionRequest())"
   ]
  },
  {
   "cell_type": "code",
   "execution_count": null,
   "metadata": {},
   "outputs": [],
   "source": [
    "buildVersion_type = type(buildVersion)"
   ]
  },
  {
   "cell_type": "code",
   "execution_count": null,
   "metadata": {},
   "outputs": [],
   "source": [
    "buildVersionList = [buildVersion, buildVersion_type]\n",
    "printList(buildVersionList)"
   ]
  },
  {
   "cell_type": "code",
   "execution_count": null,
   "metadata": {},
   "outputs": [],
   "source": [
    "rws.last_result.url"
   ]
  },
  {
   "cell_type": "code",
   "execution_count": null,
   "metadata": {},
   "outputs": [],
   "source": [
    "# CodeNameRequest\n",
    "\n",
    "codeName = rws.send_request(CodeNameRequest())"
   ]
  },
  {
   "cell_type": "code",
   "execution_count": null,
   "metadata": {},
   "outputs": [],
   "source": [
    "codeName_type = type(CodeName)"
   ]
  },
  {
   "cell_type": "code",
   "execution_count": null,
   "metadata": {},
   "outputs": [],
   "source": [
    "codeNameList = [codeName, codeName_type]"
   ]
  },
  {
   "cell_type": "code",
   "execution_count": null,
   "metadata": {},
   "outputs": [],
   "source": [
    "printList(codeNameList)"
   ]
  },
  {
   "cell_type": "code",
   "execution_count": null,
   "metadata": {},
   "outputs": [],
   "source": [
    "rws.last_result.url"
   ]
  },
  {
   "cell_type": "code",
   "execution_count": null,
   "metadata": {},
   "outputs": [],
   "source": [
    "# DiagnosticsRequest\n",
    "\n",
    "Diagnostics = rws.send_request(DiagnosticsRequest())"
   ]
  },
  {
   "cell_type": "code",
   "execution_count": null,
   "metadata": {},
   "outputs": [],
   "source": [
    "Djagnostics_type = type(Diagnostics)"
   ]
  },
  {
   "cell_type": "code",
   "execution_count": null,
   "metadata": {},
   "outputs": [],
   "source": [
    "DjagnosticsList = [Diagnostics, Djagnostics_type]"
   ]
  },
  {
   "cell_type": "code",
   "execution_count": null,
   "metadata": {},
   "outputs": [],
   "source": [
    "printList(DjagnosticsList)"
   ]
  },
  {
   "cell_type": "code",
   "execution_count": null,
   "metadata": {},
   "outputs": [],
   "source": [
    "rws.last_result.url"
   ]
  },
  {
   "cell_type": "code",
   "execution_count": null,
   "metadata": {},
   "outputs": [],
   "source": [
    "# TwoHundredRequest\n",
    "\n",
    "twoHundred = rws.send_request(TwoHundredRequest())"
   ]
  },
  {
   "cell_type": "code",
   "execution_count": null,
   "metadata": {},
   "outputs": [],
   "source": [
    "twoHundred_type = type(twoHundred)"
   ]
  },
  {
   "cell_type": "code",
   "execution_count": null,
   "metadata": {},
   "outputs": [],
   "source": [
    "twoHundredList = [twoHundred, twoHundred_type]"
   ]
  },
  {
   "cell_type": "code",
   "execution_count": null,
   "metadata": {},
   "outputs": [],
   "source": [
    "printList(twoHundredList)"
   ]
  },
  {
   "cell_type": "code",
   "execution_count": null,
   "metadata": {},
   "outputs": [],
   "source": [
    "rws.last_result.url"
   ]
  },
  {
   "cell_type": "code",
   "execution_count": null,
   "metadata": {},
   "outputs": [],
   "source": [
    "# CacheFlushRequest\n",
    "\n",
    "cacheFlush = rws.send_request(CacheFlushRequest())"
   ]
  },
  {
   "cell_type": "code",
   "execution_count": null,
   "metadata": {},
   "outputs": [],
   "source": [
    "cacheFlushType = type(cacheFlush)"
   ]
  },
  {
   "cell_type": "code",
   "execution_count": null,
   "metadata": {},
   "outputs": [],
   "source": [
    "cacheFlushList = [cacheFlush, cacheFlushType]"
   ]
  },
  {
   "cell_type": "code",
   "execution_count": null,
   "metadata": {},
   "outputs": [],
   "source": [
    "printList(cacheFlushList)"
   ]
  },
  {
   "cell_type": "code",
   "execution_count": null,
   "metadata": {},
   "outputs": [],
   "source": [
    "rws.last_result.url"
   ]
  },
  {
   "cell_type": "code",
   "execution_count": null,
   "metadata": {},
   "outputs": [],
   "source": [
    "# ConfigurableDatasetRequest\n",
    "\n",
    "configurable = rws.send_request(ConfigurableDatasetRequest())"
   ]
  },
  {
   "cell_type": "code",
   "execution_count": null,
   "metadata": {},
   "outputs": [],
   "source": [
    "configurableType = type(configurable)"
   ]
  },
  {
   "cell_type": "code",
   "execution_count": null,
   "metadata": {},
   "outputs": [],
   "source": [
    "configurableList = [configurable, configurableType]"
   ]
  },
  {
   "cell_type": "code",
   "execution_count": null,
   "metadata": {},
   "outputs": [],
   "source": [
    "printList(configurableList)"
   ]
  },
  {
   "cell_type": "code",
   "execution_count": null,
   "metadata": {},
   "outputs": [],
   "source": [
    "rws.last_result.url"
   ]
  },
  {
   "cell_type": "code",
   "execution_count": null,
   "metadata": {},
   "outputs": [],
   "source": []
  },
  {
   "cell_type": "code",
   "execution_count": null,
   "metadata": {},
   "outputs": [],
   "source": []
  }
 ],
 "metadata": {
  "kernelspec": {
   "display_name": "Python 3",
   "language": "python",
   "name": "python3"
  },
  "language_info": {
   "codemirror_mode": {
    "name": "ipython",
    "version": 3
   },
   "file_extension": ".py",
   "mimetype": "text/x-python",
   "name": "python",
   "nbconvert_exporter": "python",
   "pygments_lexer": "ipython3",
   "version": "3.6.4"
  }
 },
 "nbformat": 4,
 "nbformat_minor": 2
}
