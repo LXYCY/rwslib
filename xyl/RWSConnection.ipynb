{
 "cells": [
  {
   "cell_type": "code",
   "execution_count": 41,
   "metadata": {},
   "outputs": [],
   "source": [
    "from rwslib import RWSConnection\n",
    "from Function import PrintNameAndType\n",
    "from Function import PrintNameAndValue"
   ]
  },
  {
   "cell_type": "code",
   "execution_count": 42,
   "metadata": {},
   "outputs": [],
   "source": [
    "rws = RWSConnection(\"klserv\", \"xiaoyu.li\", \"Lxy1234rfv\")"
   ]
  },
  {
   "cell_type": "code",
   "execution_count": 43,
   "metadata": {},
   "outputs": [
    {
     "data": {
      "text/plain": [
       "'<rwslib.RWSConnection object at 0x7fbbe7af9048>'"
      ]
     },
     "execution_count": 43,
     "metadata": {},
     "output_type": "execute_result"
    }
   ],
   "source": [
    "str(rws)"
   ]
  },
  {
   "cell_type": "code",
   "execution_count": 44,
   "metadata": {},
   "outputs": [
    {
     "name": "stdout",
     "output_type": "stream",
     "text": [
      "auth type:<class 'tuple'>\n",
      "base_url type:<class 'str'>\n",
      "domain type:<class 'str'>\n",
      "last_result type:<class 'NoneType'>\n",
      "request_time type:<class 'NoneType'>\n",
      "send_request type:<class 'method'>\n",
      "------------------------------------------------------------------------------------------------------------------------\n",
      "auth value:('xiaoyu.li', 'Lxy1234rfv')\n",
      "base_url value:https://klserv.mdsol.com/RaveWebServices\n",
      "domain value:https://klserv.mdsol.com\n",
      "last_result value:None\n",
      "request_time value:None\n",
      "send_request value:<bound method RWSConnection.send_request of <rwslib.RWSConnection object at 0x7fbbe7af9048>>\n"
     ]
    }
   ],
   "source": [
    "auth = rws.auth\n",
    "base_url= rws.base_url\n",
    "domain = rws.domain\n",
    "last_result = rws.last_result\n",
    "request_time = rws.request_time\n",
    "send_request = rws.send_request\n",
    "all_rws_property = {'auth': auth, 'base_url': base_url, 'domain': domain, 'last_result': last_result,\n",
    "                    'request_time': request_time, 'send_request': send_request}\n",
    "PrintNameAndType(all_rws_property)\n",
    "print('------' * 20)\n",
    "PrintNameAndValue(all_rws_property)\n",
    "                    \n"
   ]
  }
 ],
 "metadata": {
  "kernelspec": {
   "display_name": "Python 3",
   "language": "python",
   "name": "python3"
  },
  "language_info": {
   "codemirror_mode": {
    "name": "ipython",
    "version": 3
   },
   "file_extension": ".py",
   "mimetype": "text/x-python",
   "name": "python",
   "nbconvert_exporter": "python",
   "pygments_lexer": "ipython3",
   "version": "3.6.4"
  }
 },
 "nbformat": 4,
 "nbformat_minor": 2
}
