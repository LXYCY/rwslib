{
 "cells": [
  {
   "cell_type": "code",
   "execution_count": 5,
   "metadata": {},
   "outputs": [],
   "source": [
    "from rwslib import RWSConnection\n",
    "from rwslib.rws_requests import MetadataStudiesRequest\n",
    "from Function import PrintNameAndType\n",
    "from Function import PrintNameAndValue"
   ]
  },
  {
   "cell_type": "code",
   "execution_count": 36,
   "metadata": {},
   "outputs": [],
   "source": [
    "rws = RWSConnection(\"klserv\", \"xiaoyu.li\", \"Lxy1234rfv\")"
   ]
  },
  {
   "cell_type": "code",
   "execution_count": 37,
   "metadata": {},
   "outputs": [],
   "source": [
    "metadataStudies = rws.send_request(MetadataStudiesRequest())"
   ]
  },
  {
   "cell_type": "code",
   "execution_count": 38,
   "metadata": {},
   "outputs": [
    {
     "data": {
      "text/plain": [
       "rwslib.rwsobjects.RWSStudies"
      ]
     },
     "execution_count": 38,
     "metadata": {},
     "output_type": "execute_result"
    }
   ],
   "source": [
    "type(metadataStudies)"
   ]
  },
  {
   "cell_type": "code",
   "execution_count": 44,
   "metadata": {},
   "outputs": [
    {
     "data": {
      "text/plain": [
       "'<ODM xmlns=\"http://www.cdisc.org/ns/odm/v1.3\" xmlns:mdsol=\"http://www.mdsol.com/ns/odm/metadata\" ODMVersion=\"1.3\" Granularity=\"Metadata\" FileType=\"Snapshot\" FileOID=\"f248a8e1-8857-4657-bc4e-ddeaada66769\" CreationDateTime=\" 2018-05-02T02:32:29 \">\\n  <Study OID=\"26866138MCL4001\">\\n    <GlobalVariables>\\n      <StudyName>26866138MCL4001</StudyName>\\n      <StudyDescription/>\\n      <ProtocolName>26866138MCL4001</ProtocolName>\\n    </GlobalVariables>\\n  </Study>\\n  <Study OID=\"2CERL080ACN08_byw_1\">\\n    <GlobalVariables>\\n      <StudyName>2CERL080ACN08_byw_1</StudyName>\\n      <StudyDescription/>\\n      <ProtocolName>2CERL080ACN08_byw_1</ProtocolName>\\n    </GlobalVariables>\\n  </Study>\\n  <Study OID=\"2CERL080ACN08_byw_2\">\\n    <GlobalVariables>\\n      <StudyName>2CERL080ACN08_byw_2</StudyName>\\n      <StudyDescription/>\\n      <ProtocolName>2CERL080ACN08_byw_2</ProtocolName>\\n    </GlobalVariables>\\n  </Study>\\n  <Study OID=\"APG\">\\n    <GlobalVariables>\\n      <StudyName>APG</StudyName>\\n      <StudyDescription/>\\n      <ProtocolName>APG</ProtocolName>\\n    </GlobalVariables>\\n  </Study>\\n  <Study OID=\"APG-115-CN-101_KLTEST\">\\n    <GlobalVariables>\\n      <StudyName>APG-115-CN-101_KLTEST</StudyName>\\n      <StudyDescription/>\\n      <ProtocolName>APG-115-CN-101_KLTEST</ProtocolName>\\n    </GlobalVariables>\\n  </Study>\\n  <Study OID=\"AX_L1\">\\n    <GlobalVariables>\\n      <StudyName>AX_L1</StudyName>\\n      <StudyDescription/>\\n      <ProtocolName>AX_L1</ProtocolName>\\n    </GlobalVariables>\\n  </Study>\\n  <Study OID=\"AX_Upload1\">\\n    <GlobalVariables>\\n      <StudyName>AX_Upload1</StudyName>\\n      <StudyDescription/>\\n      <ProtocolName>AX_Upload1</ProtocolName>\\n    </GlobalVariables>\\n  </Study>\\n  <Study OID=\"AX_Upload2\">\\n    <GlobalVariables>\\n      <StudyName>AX_Upload2</StudyName>\\n      <StudyDescription/>\\n      <ProtocolName>AX_Upload2</ProtocolName>\\n    </GlobalVariables>\\n  </Study>\\n  <Study OID=\"AX_Upload3\">\\n    <GlobalVariables>\\n      <StudyName>AX_Upload3</StudyName>\\n      <StudyDescription/>\\n      <ProtocolName>AX_Upload3</ProtocolName>\\n    </GlobalVariables>\\n  </Study>\\n  <Study OID=\"AX_Upload4\">\\n    <GlobalVariables>\\n      <StudyName>AX_Upload4</StudyName>\\n      <StudyDescription/>\\n      <ProtocolName>AX_Upload4</ProtocolName>\\n    </GlobalVariables>\\n  </Study>\\n  <Study OID=\"Balance Test\">\\n    <GlobalVariables>\\n      <StudyName>Balance Test</StudyName>\\n      <StudyDescription/>\\n      <ProtocolName>Balance Test</ProtocolName>\\n    </GlobalVariables>\\n  </Study>\\n  <Study OID=\"BW-201501-byw\">\\n    <GlobalVariables>\\n      <StudyName>BW-201501-byw</StudyName>\\n      <StudyDescription/>\\n      <ProtocolName>BW-201501-byw</ProtocolName>\\n    </GlobalVariables>\\n  </Study>\\n  <Study OID=\"BYW_first_project\">\\n    <GlobalVariables>\\n      <StudyName>BYW_first_project</StudyName>\\n      <StudyDescription/>\\n      <ProtocolName>BYW_first_project</ProtocolName>\\n    </GlobalVariables>\\n  </Study>\\n  <Study OID=\"byw_first_subject\">\\n    <GlobalVariables>\\n      <StudyName>byw_first_subject</StudyName>\\n      <StudyDescription/>\\n      <ProtocolName>byw_first_subject</ProtocolName>\\n    </GlobalVariables>\\n  </Study>\\n  <Study OID=\"byw_first_subject_1\">\\n    <GlobalVariables>\\n      <StudyName>byw_first_subject_1</StudyName>\\n      <StudyDescription/>\\n      <ProtocolName>byw_first_subject_1</ProtocolName>\\n    </GlobalVariables>\\n  </Study>\\n  <Study OID=\"byw_first_subject_10\">\\n    <GlobalVariables>\\n      <StudyName>byw_first_subject_10</StudyName>\\n      <StudyDescription/>\\n      <ProtocolName>byw_first_subject_10</ProtocolName>\\n    </GlobalVariables>\\n  </Study>\\n  <Study OID=\"byw_first_subject_2\">\\n    <GlobalVariables>\\n      <StudyName>byw_first_subject_2</StudyName>\\n      <StudyDescription/>\\n      <ProtocolName>byw_first_subject_2</ProtocolName>\\n    </GlobalVariables>\\n  </Study>\\n  <Study OID=\"byw_first_subject_4\">\\n    <GlobalVariables>\\n      <StudyName>byw_first_subject_4</StudyName>\\n      <StudyDescription/>\\n      <ProtocolName>byw_first_subject_4</ProtocolName>\\n    </GlobalVariables>\\n  </Study>\\n  <Study OID=\"byw_first_subject_8\">\\n    <GlobalVariables>\\n      <StudyName>byw_first_subject_8</StudyName>\\n      <StudyDescription/>\\n      <ProtocolName>byw_first_subject_8</ProtocolName>\\n    </GlobalVariables>\\n  </Study>\\n  <Study OID=\"byw_first_subject_9\">\\n    <GlobalVariables>\\n      <StudyName>byw_first_subject_9</StudyName>\\n      <StudyDescription/>\\n      <ProtocolName>byw_first_subject_9</ProtocolName>\\n    </GlobalVariables>\\n  </Study>\\n  <Study OID=\"CDASH\">\\n    <GlobalVariables>\\n      <StudyName>CDASH</StudyName>\\n      <StudyDescription/>\\n      <ProtocolName>CDASH</ProtocolName>\\n    </GlobalVariables>\\n  </Study>\\n  <Study OID=\"CDASH Library\">\\n    <GlobalVariables>\\n      <StudyName>CDASH Library</StudyName>\\n      <StudyDescription/>\\n      <ProtocolName>CDASH Library</ProtocolName>\\n    </GlobalVariables>\\n  </Study>\\n  <Study OID=\"CERL080ACN08\">\\n    <GlobalVariables>\\n      <StudyName>CERL080ACN08</StudyName>\\n      <StudyDescription/>\\n      <ProtocolName>CERL080ACN08</ProtocolName>\\n    </GlobalVariables>\\n  </Study>\\n  <Study OID=\"CERL080ACN08_byw\">\\n    <GlobalVariables>\\n      <StudyName>CERL080ACN08_byw</StudyName>\\n      <StudyDescription/>\\n      <ProtocolName>CERL080ACN08_byw</ProtocolName>\\n    </GlobalVariables>\\n  </Study>\\n  <Study OID=\"CERL080ACN08_byw_1\">\\n    <GlobalVariables>\\n      <StudyName>CERL080ACN08_byw_1</StudyName>\\n      <StudyDescription/>\\n      <ProtocolName>CERL080ACN08_byw_1</ProtocolName>\\n    </GlobalVariables>\\n  </Study>\\n  <Study OID=\"CF_Training_Cong\">\\n    <GlobalVariables>\\n      <StudyName>CF_Training_Cong</StudyName>\\n      <StudyDescription/>\\n      <ProtocolName>CF_Training_Cong</ProtocolName>\\n    </GlobalVariables>\\n  </Study>\\n  <Study OID=\"CF_Training_Cong_old\">\\n    <GlobalVariables>\\n      <StudyName>CF_Training_Cong_old</StudyName>\\n      <StudyDescription/>\\n      <ProtocolName>CF_Training_Cong_old</ProtocolName>\\n    </GlobalVariables>\\n  </Study>\\n  <Study OID=\"CF_Training_Dan\">\\n    <GlobalVariables>\\n      <StudyName>CF_Training_Dan</StudyName>\\n      <StudyDescription/>\\n      <ProtocolName>CF_Training_Dan</ProtocolName>\\n    </GlobalVariables>\\n  </Study>\\n  <Study OID=\"CF_training_ttz\">\\n    <GlobalVariables>\\n      <StudyName>CF_training_ttz</StudyName>\\n      <StudyDescription/>\\n      <ProtocolName>CF_training_ttz</ProtocolName>\\n    </GlobalVariables>\\n  </Study>\\n  <Study OID=\"CF_TRAINING_ZYX\">\\n    <GlobalVariables>\\n      <StudyName>CF_TRAINING_ZYX</StudyName>\\n      <StudyDescription/>\\n      <ProtocolName>CF_TRAINING_ZYX</ProtocolName>\\n    </GlobalVariables>\\n  </Study>\\n  <Study OID=\"cong\">\\n    <GlobalVariables>\\n      <StudyName>cong</StudyName>\\n      <StudyDescription/>\\n      <ProtocolName>cong</ProtocolName>\\n    </GlobalVariables>\\n  </Study>\\n  <Study OID=\"CTONG1509ML29943\">\\n    <GlobalVariables>\\n      <StudyName>CTONG1509ML29943</StudyName>\\n      <StudyDescription/>\\n      <ProtocolName>CTONG1509ML29943</ProtocolName>\\n    </GlobalVariables>\\n  </Study>\\n  <Study OID=\"CustomFunction-Test\">\\n    <GlobalVariables>\\n      <StudyName>CustomFunction-Test</StudyName>\\n      <StudyDescription/>\\n      <ProtocolName>CustomFunction-Test</ProtocolName>\\n    </GlobalVariables>\\n  </Study>\\n  <Study OID=\"ESC-201701_training_ttz\">\\n    <GlobalVariables>\\n      <StudyName>ESC-201701_training_ttz</StudyName>\\n      <StudyDescription/>\\n      <ProtocolName>ESC-201701_training_ttz</ProtocolName>\\n    </GlobalVariables>\\n  </Study>\\n  <Study OID=\"ESC-201701_zyx\">\\n    <GlobalVariables>\\n      <StudyName>ESC-201701_zyx</StudyName>\\n      <StudyDescription/>\\n      <ProtocolName>ESC-201701_zyx</ProtocolName>\\n    </GlobalVariables>\\n  </Study>\\n  <Study OID=\"ESC-201701-DL\">\\n    <GlobalVariables>\\n      <StudyName>ESC-201701-DL</StudyName>\\n      <StudyDescription/>\\n      <ProtocolName>ESC-201701-DL</ProtocolName>\\n    </GlobalVariables>\\n  </Study>\\n  <Study OID=\"FMD CF Training 19Dec2017 CF01\">\\n    <GlobalVariables>\\n      <StudyName>FMD CF Training 19Dec2017 CF01</StudyName>\\n      <StudyDescription/>\\n      <ProtocolName>FMD CF Training 19Dec2017 CF01</ProtocolName>\\n    </GlobalVariables>\\n  </Study>\\n  <Study OID=\"FMD K&amp;L Training Study for DBDs\">\\n    <GlobalVariables>\\n      <StudyName>FMD K&amp;L Training Study for DBDs</StudyName>\\n      <StudyDescription/>\\n      <ProtocolName>FMD K&amp;L Training Study for DBDs</ProtocolName>\\n    </GlobalVariables>\\n  </Study>\\n  <Study OID=\"GB224-002 KL TEST\">\\n    <GlobalVariables>\\n      <StudyName>GB224-002 KL TEST</StudyName>\\n      <StudyDescription/>\\n      <ProtocolName>GB224-002 KL TEST</ProtocolName>\\n    </GlobalVariables>\\n  </Study>\\n  <Study OID=\"GT_Demo\">\\n    <GlobalVariables>\\n      <StudyName>GT_Demo</StudyName>\\n      <StudyDescription/>\\n      <ProtocolName>GT_Demo</ProtocolName>\\n    </GlobalVariables>\\n  </Study>\\n  <Study OID=\"HS005-III\">\\n    <GlobalVariables>\\n      <StudyName>HS005-III</StudyName>\\n      <StudyDescription/>\\n      <ProtocolName>HS005-III</ProtocolName>\\n    </GlobalVariables>\\n  </Study>\\n  <Study OID=\"HS016\">\\n    <GlobalVariables>\\n      <StudyName>HS016</StudyName>\\n      <StudyDescription/>\\n      <ProtocolName>HS016</ProtocolName>\\n    </GlobalVariables>\\n  </Study>\\n  <Study OID=\"HS016111\">\\n    <GlobalVariables>\\n      <StudyName>HS016111</StudyName>\\n      <StudyDescription>aaa</StudyDescription>\\n      <ProtocolName>HS016111</ProtocolName>\\n    </GlobalVariables>\\n  </Study>\\n  <Study OID=\"HS016-III\">\\n    <GlobalVariables>\\n      <StudyName>HS016-III</StudyName>\\n      <StudyDescription/>\\n      <ProtocolName>HS016-III</ProtocolName>\\n    </GlobalVariables>\\n  </Study>\\n  <Study OID=\"HS022-I\">\\n    <GlobalVariables>\\n      <StudyName>HS022-I</StudyName>\\n      <StudyDescription/>\\n      <ProtocolName>HS022-I</ProtocolName>\\n    </GlobalVariables>\\n  </Study>\\n  <Study OID=\"Internal Training Project\">\\n    <GlobalVariables>\\n      <StudyName>Internal Training Project</StudyName>\\n      <StudyDescription/>\\n      <ProtocolName>Internal Training Project</ProtocolName>\\n    </GlobalVariables>\\n  </Study>\\n  <Study OID=\"JMT101\">\\n    <GlobalVariables>\\n      <StudyName>JMT101</StudyName>\\n      <StudyDescription/>\\n      <ProtocolName>JMT101</ProtocolName>\\n    </GlobalVariables>\\n  </Study>\\n  <Study OID=\"JMT101_product\">\\n    <GlobalVariables>\\n      <StudyName>JMT101_product</StudyName>\\n      <StudyDescription/>\\n      <ProtocolName>JMT101_product</ProtocolName>\\n    </GlobalVariables>\\n  </Study>\\n  <Study OID=\"JNJ3007\">\\n    <GlobalVariables>\\n      <StudyName>JNJ3007</StudyName>\\n      <StudyDescription/>\\n      <ProtocolName>JNJ3007</ProtocolName>\\n    </GlobalVariables>\\n  </Study>\\n  <Study OID=\"JNJ3008\">\\n    <GlobalVariables>\\n      <StudyName>JNJ3008</StudyName>\\n      <StudyDescription/>\\n      <ProtocolName>JNJ3008</ProtocolName>\\n    </GlobalVariables>\\n  </Study>\\n  <Study OID=\"K&amp;L Consulting Mediflex\">\\n    <GlobalVariables>\\n      <StudyName>K&amp;L Consulting Mediflex</StudyName>\\n      <StudyDescription>This is a practice study for use of K&amp;L Consulting internal testing, training and demonstrations.</StudyDescription>\\n      <ProtocolName>K&amp;L Consulting Mediflex</ProtocolName>\\n    </GlobalVariables>\\n  </Study>\\n  <Study OID=\"KH902-III-BRVO\">\\n    <GlobalVariables>\\n      <StudyName>KH902-III-BRVO</StudyName>\\n      <StudyDescription/>\\n      <ProtocolName>KH902-III-BRVO</ProtocolName>\\n    </GlobalVariables>\\n  </Study>\\n  <Study OID=\"KL\">\\n    <GlobalVariables>\\n      <StudyName>KL</StudyName>\\n      <StudyDescription/>\\n      <ProtocolName>KL</ProtocolName>\\n    </GlobalVariables>\\n  </Study>\\n  <Study OID=\"KL - Balance Workshop\">\\n    <GlobalVariables>\\n      <StudyName>KL - Balance Workshop</StudyName>\\n      <StudyDescription/>\\n      <ProtocolName>KL - Balance Workshop</ProtocolName>\\n    </GlobalVariables>\\n  </Study>\\n  <Study OID=\"KL BAL WS\">\\n    <GlobalVariables>\\n      <StudyName>KL BAL WS</StudyName>\\n      <StudyDescription/>\\n      <ProtocolName>KL BAL WS</ProtocolName>\\n    </GlobalVariables>\\n  </Study>\\n  <Study OID=\"KL BAL WS_JLD\">\\n    <GlobalVariables>\\n      <StudyName>KL BAL WS_JLD</StudyName>\\n      <StudyDescription/>\\n      <ProtocolName>KL BAL WS_JLD</ProtocolName>\\n    </GlobalVariables>\\n  </Study>\\n  <Study OID=\"KL Balance &amp; Supplement TRN\">\\n    <GlobalVariables>\\n      <StudyName>KL Balance &amp; Supplement TRN</StudyName>\\n      <StudyDescription/>\\n      <ProtocolName>KL Balance &amp; Supplement TRN</ProtocolName>\\n    </GlobalVariables>\\n  </Study>\\n  <Study OID=\"KL_CF_Workshop\">\\n    <GlobalVariables>\\n      <StudyName>KL_CF_Workshop</StudyName>\\n      <StudyDescription/>\\n      <ProtocolName>KL_CF_Workshop</ProtocolName>\\n    </GlobalVariables>\\n  </Study>\\n  <Study OID=\"KL_GENOR GB222-002\">\\n    <GlobalVariables>\\n      <StudyName>KL_GENOR GB222-002</StudyName>\\n      <StudyDescription/>\\n      <ProtocolName>KL_GENOR GB222-002</ProtocolName>\\n    </GlobalVariables>\\n  </Study>\\n  <Study OID=\"KLRefresherWS\">\\n    <GlobalVariables>\\n      <StudyName>KLRefresherWS</StudyName>\\n      <StudyDescription/>\\n      <ProtocolName>KLRefresherWS</ProtocolName>\\n    </GlobalVariables>\\n  </Study>\\n  <Study OID=\"KLRefresherWS-2\">\\n    <GlobalVariables>\\n      <StudyName>KLRefresherWS-2</StudyName>\\n      <StudyDescription/>\\n      <ProtocolName>KLRefresherWS-2</ProtocolName>\\n    </GlobalVariables>\\n  </Study>\\n  <Study OID=\"KLTEST_XAPEC\">\\n    <GlobalVariables>\\n      <StudyName>KLTEST_XAPEC</StudyName>\\n      <StudyDescription/>\\n      <ProtocolName>KLTEST_XAPEC</ProtocolName>\\n    </GlobalVariables>\\n  </Study>\\n  <Study OID=\"ne\">\\n    <GlobalVariables>\\n      <StudyName>ne</StudyName>\\n      <StudyDescription/>\\n      <ProtocolName>ne</ProtocolName>\\n    </GlobalVariables>\\n  </Study>\\n  <Study OID=\"NeuPharma_NP-102_OLD\">\\n    <GlobalVariables>\\n      <StudyName>NeuPharma_NP-102_OLD</StudyName>\\n      <StudyDescription/>\\n      <ProtocolName>NeuPharma_NP-102_OLD</ProtocolName>\\n    </GlobalVariables>\\n  </Study>\\n  <Study OID=\"NK Balance Supplement TRN_30Sep2015\">\\n    <GlobalVariables>\\n      <StudyName>NK Balance Supplement TRN_30Sep2015</StudyName>\\n      <StudyDescription/>\\n      <ProtocolName>NK Balance Supplement TRN_30Sep2015</ProtocolName>\\n    </GlobalVariables>\\n  </Study>\\n  <Study OID=\"NOPRODANP4001\">\\n    <GlobalVariables>\\n      <StudyName>NOPRODANP4001</StudyName>\\n      <StudyDescription/>\\n      <ProtocolName>NOPRODANP4001</ProtocolName>\\n    </GlobalVariables>\\n  </Study>\\n  <Study OID=\"Oncology Library\">\\n    <GlobalVariables>\\n      <StudyName>Oncology Library</StudyName>\\n      <StudyDescription/>\\n      <ProtocolName>Oncology Library</ProtocolName>\\n    </GlobalVariables>\\n  </Study>\\n  <Study OID=\"Rave_Training_Cong\">\\n    <GlobalVariables>\\n      <StudyName>Rave_Training_Cong</StudyName>\\n      <StudyDescription>create a new CRF</StudyDescription>\\n      <ProtocolName>Rave_Training_Cong</ProtocolName>\\n    </GlobalVariables>\\n  </Study>\\n  <Study OID=\"Rave_Training_Cong_2018\">\\n    <GlobalVariables>\\n      <StudyName>Rave_Training_Cong_2018</StudyName>\\n      <StudyDescription/>\\n      <ProtocolName>Rave_Training_Cong_2018</ProtocolName>\\n    </GlobalVariables>\\n  </Study>\\n  <Study OID=\"RBNI US 1501\">\\n    <GlobalVariables>\\n      <StudyName>RBNI US 1501</StudyName>\\n      <StudyDescription/>\\n      <ProtocolName>RBNI US 1501</ProtocolName>\\n    </GlobalVariables>\\n  </Study>\\n  <Study OID=\"REAL-I\">\\n    <GlobalVariables>\\n      <StudyName>REAL-I</StudyName>\\n      <StudyDescription/>\\n      <ProtocolName>REAL-I</ProtocolName>\\n    </GlobalVariables>\\n  </Study>\\n  <Study OID=\"TestStudy(DEV)\">\\n    <GlobalVariables>\\n      <StudyName>TestStudy(DEV)</StudyName>\\n      <StudyDescription/>\\n      <ProtocolName>TestStudy(DEV)</ProtocolName>\\n    </GlobalVariables>\\n  </Study>\\n  <Study OID=\"Training project-yang\">\\n    <GlobalVariables>\\n      <StudyName>Training project-yang</StudyName>\\n      <StudyDescription/>\\n      <ProtocolName>Training project-yang</ProtocolName>\\n    </GlobalVariables>\\n  </Study>\\n  <Study OID=\"Training_20170814_LTJ\">\\n    <GlobalVariables>\\n      <StudyName>Training_20170814_LTJ</StudyName>\\n      <StudyDescription>Tianjiao Li first Medidata Rave study_training</StudyDescription>\\n      <ProtocolName>Training_20170814_LTJ</ProtocolName>\\n    </GlobalVariables>\\n  </Study>\\n  <Study OID=\"Training_cong_001\">\\n    <GlobalVariables>\\n      <StudyName>Training_cong_001</StudyName>\\n      <StudyDescription/>\\n      <ProtocolName>Training_cong_001</ProtocolName>\\n    </GlobalVariables>\\n  </Study>\\n  <Study OID=\"Training_KW\">\\n    <GlobalVariables>\\n      <StudyName>Training_KW</StudyName>\\n      <StudyDescription/>\\n      <ProtocolName>Training_KW</ProtocolName>\\n    </GlobalVariables>\\n  </Study>\\n  <Study OID=\"Training_Testing_YMW\">\\n    <GlobalVariables>\\n      <StudyName>Training_Testing_YMW</StudyName>\\n      <StudyDescription/>\\n      <ProtocolName>Training_Testing_YMW</ProtocolName>\\n    </GlobalVariables>\\n  </Study>\\n  <Study OID=\"TYS-CN-1.1PUMPIII\">\\n    <GlobalVariables>\\n      <StudyName>TYS-CN-1.1PUMPIII</StudyName>\\n      <StudyDescription/>\\n      <ProtocolName>TYS-CN-1.1PUMPIII</ProtocolName>\\n    </GlobalVariables>\\n  </Study>\\n  <Study OID=\"Weiping_Chen_TestStudy_20170419\">\\n    <GlobalVariables>\\n      <StudyName>Weiping_Chen_TestStudy_20170419</StudyName>\\n      <StudyDescription/>\\n      <ProtocolName>Weiping_Chen_TestStudy_20170419</ProtocolName>\\n    </GlobalVariables>\\n  </Study>\\n  <Study OID=\"Weiping_Test\">\\n    <GlobalVariables>\\n      <StudyName>Weiping_Test</StudyName>\\n      <StudyDescription/>\\n      <ProtocolName>Weiping_Test</ProtocolName>\\n    </GlobalVariables>\\n  </Study>\\n  <Study OID=\"Weiping_TestBalance\">\\n    <GlobalVariables>\\n      <StudyName>Weiping_TestBalance</StudyName>\\n      <StudyDescription/>\\n      <ProtocolName>Weiping_TestBalance</ProtocolName>\\n    </GlobalVariables>\\n  </Study>\\n  <Study OID=\"YMW21JUL2014\">\\n    <GlobalVariables>\\n      <StudyName>YMW21JUL2014</StudyName>\\n      <StudyDescription/>\\n      <ProtocolName>YMW21JUL2014</ProtocolName>\\n    </GlobalVariables>\\n  </Study>\\n  <Study OID=\"YZJ\">\\n    <GlobalVariables>\\n      <StudyName>YZJ</StudyName>\\n      <StudyDescription/>\\n      <ProtocolName>YZJ</ProtocolName>\\n    </GlobalVariables>\\n  </Study>\\n  <Study OID=\"YZJ-1139-1-01_T\">\\n    <GlobalVariables>\\n      <StudyName>YZJ-1139-1-01_T</StudyName>\\n      <StudyDescription/>\\n      <ProtocolName>YZJ-1139-1-01_T</ProtocolName>\\n    </GlobalVariables>\\n  </Study>\\n  <Study OID=\"中国活体肾移植患者长期存活及其相关因素评估\">\\n    <GlobalVariables>\\n      <StudyName>中国活体肾移植患者长期存活及其相关因素评估</StudyName>\\n      <StudyDescription/>\\n      <ProtocolName>中国活体肾移植患者长期存活及其相关因素评估</ProtocolName>\\n    </GlobalVariables>\\n  </Study>\\n</ODM>'"
      ]
     },
     "execution_count": 44,
     "metadata": {},
     "output_type": "execute_result"
    }
   ],
   "source": [
    "str(metadataStudies)"
   ]
  },
  {
   "cell_type": "code",
   "execution_count": 39,
   "metadata": {},
   "outputs": [
    {
     "name": "stdout",
     "output_type": "stream",
     "text": [
      "creationdatetime type:<class 'str'>\n",
      "fileoid type:<class 'str'>\n",
      "filetype type:<class 'str'>\n",
      "granularity type:<class 'str'>\n",
      "index type:<class 'builtin_function_or_method'>\n",
      "ODMVersion type:<class 'str'>\n",
      "root type:<class 'lxml.etree._Element'>\n",
      "------------------------------------------------------------------------------------------------------------------------\n",
      "creationdatetime value: 2018-05-02T02:32:29 \n",
      "fileoid value:f248a8e1-8857-4657-bc4e-ddeaada66769\n",
      "filetype value:Snapshot\n",
      "granularity value:Metadata\n",
      "index value:<built-in method index of RWSStudies object at 0x7f5d29360b38>\n",
      "ODMVersion value:1.3\n",
      "root value:<Element {http://www.cdisc.org/ns/odm/v1.3}ODM at 0x7f5d292a89c8>\n"
     ]
    }
   ],
   "source": [
    "creationdatetime = metadataStudies.creationdatetime\n",
    "fileoid = metadataStudies.fileoid\n",
    "filetype = metadataStudies.filetype\n",
    "granularity = metadataStudies.granularity\n",
    "index = metadataStudies.index\n",
    "ODMVersion = metadataStudies.ODMVersion\n",
    "root = metadataStudies.root\n",
    "all_metadataStudies_property = {'creationdatetime': creationdatetime, 'fileoid': fileoid, 'filetype': filetype, \n",
    "                        'granularity': granularity, 'index': index, 'ODMVersion': ODMVersion, 'root': root}\n",
    "PrintNameAndType(all_metadataStudies_property)\n",
    "print('------' * 20)\n",
    "PrintNameAndValue(all_metadataStudies_property)"
   ]
  },
  {
   "cell_type": "code",
   "execution_count": 47,
   "metadata": {},
   "outputs": [],
   "source": [
    "study_property = {'oid':[], 'studyname': [], 'protocolname': [], 'environment': [], 'projecttype': [], 'isProd': []}\n",
    "for study in metadataStudies[:5]:\n",
    "    oid = study.oid\n",
    "    studyname = study.studyname\n",
    "    protocolname = study.protocolname\n",
    "    environment = study.environment\n",
    "    projecttype = study.projecttype\n",
    "    # MetadataStudiesRequest is Architect project study.So environment is empty and isProd always True.\n",
    "    if study.isProd():\n",
    "        isProd = True\n",
    "    elif not study.isProd():\n",
    "        isProd = False\n",
    "    study_property['oid'].append(oid)\n",
    "    study_property['studyname'].append(studyname)\n",
    "    study_property['protocolname'].append(protocolname)\n",
    "    study_property['environment'].append(environment)\n",
    "    study_property['projecttype'].append(projecttype)\n",
    "    study_property['isProd'].append(isProd)"
   ]
  },
  {
   "cell_type": "code",
   "execution_count": 48,
   "metadata": {},
   "outputs": [
    {
     "name": "stdout",
     "output_type": "stream",
     "text": [
      "oid type:<class 'list'>\n",
      "studyname type:<class 'list'>\n",
      "protocolname type:<class 'list'>\n",
      "environment type:<class 'list'>\n",
      "projecttype type:<class 'list'>\n",
      "isProd type:<class 'list'>\n",
      "------------------------------------------------------------------------------------------------------------------------\n",
      "oid value:['26866138MCL4001', '2CERL080ACN08_byw_1', '2CERL080ACN08_byw_2', 'APG', 'APG-115-CN-101_KLTEST']\n",
      "studyname value:['26866138MCL4001', '2CERL080ACN08_byw_1', '2CERL080ACN08_byw_2', 'APG', 'APG-115-CN-101_KLTEST']\n",
      "protocolname value:['26866138MCL4001', '2CERL080ACN08_byw_1', '2CERL080ACN08_byw_2', 'APG', 'APG-115-CN-101_KLTEST']\n",
      "environment value:['', '', '', '', '']\n",
      "projecttype value:['Project', 'Project', 'Project', 'Project', 'Project']\n",
      "isProd value:[True, True, True, True, True]\n"
     ]
    }
   ],
   "source": [
    "PrintNameAndType(study_property)\n",
    "print('------' * 20)\n",
    "PrintNameAndValue(study_property)"
   ]
  },
  {
   "cell_type": "code",
   "execution_count": null,
   "metadata": {},
   "outputs": [],
   "source": []
  }
 ],
 "metadata": {
  "kernelspec": {
   "display_name": "Python 3",
   "language": "python",
   "name": "python3"
  },
  "language_info": {
   "codemirror_mode": {
    "name": "ipython",
    "version": 3
   },
   "file_extension": ".py",
   "mimetype": "text/x-python",
   "name": "python",
   "nbconvert_exporter": "python",
   "pygments_lexer": "ipython3",
   "version": "3.6.4"
  }
 },
 "nbformat": 4,
 "nbformat_minor": 2
}
